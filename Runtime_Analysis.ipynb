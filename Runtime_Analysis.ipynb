{
  "nbformat": 4,
  "nbformat_minor": 0,
  "metadata": {
    "colab": {
      "provenance": [],
      "include_colab_link": true
    },
    "kernelspec": {
      "name": "python3",
      "display_name": "Python 3"
    },
    "language_info": {
      "name": "python"
    }
  },
  "cells": [
    {
      "cell_type": "markdown",
      "metadata": {
        "id": "view-in-github",
        "colab_type": "text"
      },
      "source": [
        "<a href=\"https://colab.research.google.com/github/sandraleebatista/csci104_fall2020_lecture/blob/master/Runtime_Analysis.ipynb\" target=\"_parent\"><img src=\"https://colab.research.google.com/assets/colab-badge.svg\" alt=\"Open In Colab\"/></a>"
      ]
    },
    {
      "cell_type": "markdown",
      "source": [
        "###  Runtime Analysis Practice\n",
        "1. For **worst-case** analysis, think of an input that will require the maximum amount of time for the code or algorithm\n",
        "2. Let the size of the input be n. Express the runtime of the code as a function of n, **T(n)**. This is done by stepping through code one line at a time counting the operations done.\n",
        "3. If necessary, solve to get a closed form expression for T(n).\n",
        "4. Apply asymptotic notation to T(n) to get the order of growth of the runtime function.\n",
        "\n",
        "\n",
        "\n",
        "\n"
      ],
      "metadata": {
        "id": "pS2wiXLBAQlH"
      }
    },
    {
      "cell_type": "code",
      "source": [
        "# Find_max takes as argument a list of positive integers\n",
        "def find_max(numbers) -> int:\n",
        "  max: int = 0\n",
        "  n: int = len(numbers)\n",
        "  for i in range(n):\n",
        "    if numbers[i] > max:\n",
        "      max = numbers[i]\n",
        "  return max\n",
        "\n",
        "find_max([19, 9,81,27,10,26,35])"
      ],
      "metadata": {
        "id": "iNQisT2N-aiH",
        "colab": {
          "base_uri": "https://localhost:8080/"
        },
        "outputId": "97d6049b-ce50-44bd-d29e-5df606130fb7"
      },
      "execution_count": null,
      "outputs": [
        {
          "output_type": "execute_result",
          "data": {
            "text/plain": [
              "81"
            ]
          },
          "metadata": {},
          "execution_count": 2
        }
      ]
    },
    {
      "cell_type": "code",
      "source": [
        "# bsort takes as argument a list of integers\n",
        "def bsort(numbers) -> list:\n",
        "  n: int = len(numbers)\n",
        "  for i in range(n-1):\n",
        "    for j in range(n-1-i):\n",
        "      if numbers[j] > numbers[j+1]:\n",
        "        tmp = numbers[j+1]\n",
        "        numbers[j+1] = numbers[j]\n",
        "        numbers[j] = tmp\n",
        "  return numbers\n",
        "\n",
        "bsort([19, 9,81,27,10,26,35])"
      ],
      "metadata": {
        "id": "fvNFmZSk-zhy"
      },
      "execution_count": null,
      "outputs": []
    },
    {
      "cell_type": "code",
      "source": [
        "# Target sum takes a a sorted list of distinct integers and an integer target and returns two that sum to T or\n",
        "# the tuple (-target, -target) if a pair is not found\n",
        "\n",
        "# This implementation is O(n^2).\n",
        "# TODO: How can this implementation be improved?\n",
        "\n",
        "def target_sum(numbers, target):\n",
        "  n = len(numbers)\n",
        "  for i in range(n):\n",
        "    for j in range(i+1,n):\n",
        "      if numbers[i] + numbers[j] == target:\n",
        "        return numbers[i], numbers[j]\n",
        "\n",
        "\n",
        "  return (-target, -target)\n",
        "\n",
        "attempt = [-20, 10, 20, 30, 35, 40, 60, 70]\n",
        "target_sum(attempt, 60)\n"
      ],
      "metadata": {
        "colab": {
          "base_uri": "https://localhost:8080/"
        },
        "id": "j4QpZLOhUXJf",
        "outputId": "fa8c6517-4404-4a90-b3e7-67405b5421e2"
      },
      "execution_count": null,
      "outputs": [
        {
          "output_type": "execute_result",
          "data": {
            "text/plain": [
              "(20, 40)"
            ]
          },
          "metadata": {},
          "execution_count": 63
        }
      ]
    },
    {
      "cell_type": "code",
      "source": [
        "# shrinking_max takes as argument a list of integers\n",
        "def shrinking_max(numbers):\n",
        "  n: int = len(numbers)\n",
        "  while n >= 1:\n",
        "    max = find_max(numbers)\n",
        "    print(max)\n",
        "    n = n//2\n",
        "    if n < 1:\n",
        "      break\n",
        "    numbers = numbers[:n]\n",
        "\n",
        "shrinking_max([19, 9,27,81, 10,26,35])\n"
      ],
      "metadata": {
        "id": "-K3F_ZbZC4Q4"
      },
      "execution_count": null,
      "outputs": []
    },
    {
      "cell_type": "markdown",
      "source": [
        "**Improving Runtimes**\n",
        "1. We will implement a function using a brute force method with the largest worst case runtime.\n",
        "2. We will then implement the same function using sorting and search for a more efficient runtime.\n"
      ],
      "metadata": {
        "id": "PGZ7xyNWY6Zo"
      }
    },
    {
      "cell_type": "code",
      "source": [
        "#This code implements binary search. We will reuse this function\n",
        "# Rather than returning a boolean, we return index where found\n",
        "# Recall binary search has a runtime of O(log n) where n is the number of elements in list\n",
        "\n",
        "def search(target: int, sorted: list[int]) -> int:\n",
        "    left: int = 0\n",
        "    right: int = len(sorted)-1\n",
        "\n",
        "    while (left <= right):\n",
        "        mid: int = (left + right)//2\n",
        "\n",
        "        # get the middle value & save the result\n",
        "        result = sorted[mid]\n",
        "\n",
        "        if (result == target):\n",
        "            return mid\n",
        "\n",
        "        elif (result < target):\n",
        "            # update left boundary\n",
        "            left = mid + 1\n",
        "\n",
        "        else:\n",
        "            # update right boundary\n",
        "            right = mid - 1\n",
        "\n",
        "    return -1"
      ],
      "metadata": {
        "id": "OGMbEQksJRGk"
      },
      "execution_count": null,
      "outputs": []
    },
    {
      "cell_type": "code",
      "source": [
        "# Sorted_rotated_array_min is given a non-empty list of distinct integers that are sorted\n",
        "# in a rotated array and returns the index of the minimum value and its index\n",
        "\n",
        "#current implementation is O(n) similar to find_max above.\n",
        "#TODO: How can you implement this more efficiently?\n",
        "def sorted_array_min(numbers):\n",
        "  min_index = 0\n",
        "  min_val = numbers[0]\n",
        "  n = len(numbers)\n",
        "  for i in range(1,n):\n",
        "    if numbers[i] < min_val:\n",
        "      min_index = i\n",
        "      min_val = numbers[i]\n",
        "\n",
        "  return min_index, min_val\n",
        "\n",
        "\n",
        "circular_array = [80, 85, 90, 95, 20, 30, 35, 50, 60, 65, 67, 75]\n",
        "\n",
        "sorted_array_min(circular_array)\n"
      ],
      "metadata": {
        "colab": {
          "base_uri": "https://localhost:8080/"
        },
        "id": "LUrH3iXeccJD",
        "outputId": "47d31b02-485b-4612-e399-bbc6e9d9243c"
      },
      "execution_count": null,
      "outputs": [
        {
          "output_type": "execute_result",
          "data": {
            "text/plain": [
              "(4, 20)"
            ]
          },
          "metadata": {},
          "execution_count": 22
        }
      ]
    },
    {
      "cell_type": "code",
      "source": [
        "#Python gives us a built-in function on lists to sort them\n",
        "# the runtime is O(n log n) where n is the length of the list\n",
        "# Try this function on list you pass to binary search\n",
        "\n",
        "test_sort = [19, 9,27,81,10,26,35]\n",
        "test_sort.sort()\n",
        "test_sort"
      ],
      "metadata": {
        "colab": {
          "base_uri": "https://localhost:8080/"
        },
        "id": "1fPS_ylTJnMy",
        "outputId": "893ad22b-dc5e-4000-fc4c-a828b7f1ce4c"
      },
      "execution_count": null,
      "outputs": [
        {
          "output_type": "execute_result",
          "data": {
            "text/plain": [
              "[9, 10, 19, 26, 27, 35, 81]"
            ]
          },
          "metadata": {},
          "execution_count": 11
        }
      ]
    },
    {
      "cell_type": "code",
      "source": [
        "# Brute force two_sums_count: given a list of integers\n",
        "# return the count of the number of pairs of integers that sum\n",
        "# to 0. This implementation is O(n^2) where n is the number of\n",
        "# integers in the list\n",
        "def two_sums_count(numbers):\n",
        "  count = 0\n",
        "  n = len(numbers)\n",
        "  for i in range(n):\n",
        "    for j in range(i+1,n):\n",
        "      if numbers[i] + numbers[j] == 0:\n",
        "        count += 1\n",
        "\n",
        "  return count\n",
        "\n",
        "\n",
        "two_sums_count([0,-1,1,3,-3,5,7,0])"
      ],
      "metadata": {
        "colab": {
          "base_uri": "https://localhost:8080/"
        },
        "id": "nXbTOM3zKNp6",
        "outputId": "20df799b-4b04-4729-c0a1-a05593bced56"
      },
      "execution_count": null,
      "outputs": [
        {
          "output_type": "execute_result",
          "data": {
            "text/plain": [
              "3"
            ]
          },
          "metadata": {},
          "execution_count": 17
        }
      ]
    },
    {
      "cell_type": "code",
      "source": [
        "# How can we do better? Can you use search and sort to make\n",
        "# a faster version of two_sums_count\n",
        "# faster_two_sums_count: given a list of integers return\n",
        "# the number of pairs that sum to 0\n",
        "# what is the worst case asymptotic runtime of your function?\n",
        "def faster_two_sums_count(numbers):\n",
        "    count = 0\n",
        "    return count\n",
        "\n",
        "faster_two_sums_count([0,-1,1,3,-3,5,7,0])"
      ],
      "metadata": {
        "colab": {
          "base_uri": "https://localhost:8080/"
        },
        "id": "rYmOxaLhLWCF",
        "outputId": "cfc95a1f-a282-43b7-f62b-9e6f64447701"
      },
      "execution_count": null,
      "outputs": [
        {
          "output_type": "execute_result",
          "data": {
            "text/plain": [
              "0"
            ]
          },
          "metadata": {},
          "execution_count": 9
        }
      ]
    },
    {
      "cell_type": "markdown",
      "source": [
        "**Experimental Results**\n",
        "\n",
        "In practice we conduct timing experiments to convince ourselves and others of improvements to algorithms. This can even happen when we provide complexity analysis because complexity analysis hides constants that could affect practical performance.\n",
        "\n",
        "Once you have implemented your functions, you can compare the runtimes measured for different input sizes. The comparisons of the functions will also be plotted."
      ],
      "metadata": {
        "id": "0OSgPy92RZlT"
      }
    },
    {
      "cell_type": "code",
      "source": [
        "# You do not need to change this cell, but can do so to change the experiments\n",
        "# if you would like\n",
        "from numpy import random\n",
        "import time\n",
        "import matplotlib.pyplot as plt\n",
        "\n",
        "# These are different input sizes for testing\n",
        "sizes = [10, 100, 500, 1000, 2000, 3000, 4000, 5000, 10000]\n",
        "# We will save our experimental times for each method in lists\n",
        "# to plot\n",
        "brute_force_times = []\n",
        "faster_times = []\n",
        "for i in sizes:\n",
        "    # Generate random lists to check for two sums\n",
        "    x=random.randint(-1000,1000, size=(i))\n",
        "    # Brute force two sums experiments\n",
        "    # Get the time before and after running method\n",
        "    t1 = time.perf_counter_ns()\n",
        "    two_sums_count(x)\n",
        "    t2 = time.perf_counter_ns()\n",
        "    # Save the differences in times as elapsed time\n",
        "    brute_force_times.append(t2-t1)\n",
        "\n",
        "    # Faster two sums experiments\n",
        "    # Get the time before and after running method\n",
        "    t1 = time.perf_counter_ns()\n",
        "    faster_two_sums_count(x)\n",
        "    t2 = time.perf_counter_ns()\n",
        "    # Save the differences in times as elapsed time\n",
        "    faster_times.append(t2-t1)\n",
        "\n",
        "# Plot the input size on x axis against measure runtimes on y axis\n",
        "# Brute force times will be red plot and faster method times in green\n",
        "plt.plot(sizes, brute_force_times, c=\"red\")\n",
        "plt.plot(sizes, faster_times, c=\"green\")\n",
        "\n",
        "\n",
        "\n",
        "\n",
        "\n"
      ],
      "metadata": {
        "id": "4CSxzimmO7NI"
      },
      "execution_count": null,
      "outputs": []
    },
    {
      "cell_type": "code",
      "source": [
        "print(brute_force_times)"
      ],
      "metadata": {
        "id": "Y4N-WNWFSU-n"
      },
      "execution_count": null,
      "outputs": []
    },
    {
      "cell_type": "code",
      "source": [
        "print(faster_times)"
      ],
      "metadata": {
        "id": "YxelPyvDSZ8d"
      },
      "execution_count": null,
      "outputs": []
    },
    {
      "cell_type": "code",
      "source": [
        "#three_sums_count: given a list of distinct integers\n",
        "# find a set of three number that sum to 0\n",
        "# Brute force is O(n^3) where n is the number of integers in the list\n",
        "# Write an implementation that does better\n",
        "# returns all zeroes if no set of 3 is found\n",
        "def three_sums(numbers):\n",
        "  n = len(numbers)\n",
        "\n",
        "  return (0,0,0)\n",
        "\n",
        "\n",
        "three_sums([3,-1,5, 6, 4, 8, -3, 9])"
      ],
      "metadata": {
        "colab": {
          "base_uri": "https://localhost:8080/"
        },
        "id": "tee_5T7EnOqC",
        "outputId": "ad8eae03-3338-4b6d-ede1-fb2feba9e3f1"
      },
      "execution_count": null,
      "outputs": [
        {
          "output_type": "execute_result",
          "data": {
            "text/plain": [
              "(-3, -1, 4)"
            ]
          },
          "metadata": {},
          "execution_count": 67
        }
      ]
    },
    {
      "cell_type": "markdown",
      "source": [],
      "metadata": {
        "id": "feogQbiYuLGC"
      }
    },
    {
      "cell_type": "markdown",
      "source": [
        "Citation for two_sums problem:\n",
        "[Algorithms by Sedgewick and Wayne, Section 1.4](https://algs4.cs.princeton.edu/14analysis/)"
      ],
      "metadata": {
        "id": "NaQ7EiORtMJC"
      }
    }
  ]
}